{
  "nbformat": 4,
  "nbformat_minor": 0,
  "metadata": {
    "colab": {
      "provenance": [],
      "gpuType": "T4"
    },
    "kernelspec": {
      "name": "python3",
      "display_name": "Python 3"
    },
    "language_info": {
      "name": "python"
    },
    "accelerator": "GPU"
  },
  "cells": [
    {
      "cell_type": "code",
      "execution_count": null,
      "metadata": {
        "id": "D9akFBhYCvYu"
      },
      "outputs": [],
      "source": [
        "# installation\n",
        "!pip install transformers accelerate datasets outlines"
      ]
    },
    {
      "cell_type": "code",
      "source": [
        "# libraries\n",
        "import os\n",
        "import re\n",
        "from google.colab import files\n",
        "from pathlib import Path\n",
        "import json\n",
        "from dataclasses import dataclass\n",
        "from tqdm import tqdm\n",
        "from transformers import AutoTokenizer\n",
        "from outlines import models, generate"
      ],
      "metadata": {
        "id": "odBBzUVRP2mR"
      },
      "execution_count": null,
      "outputs": []
    },
    {
      "cell_type": "code",
      "source": [
        "# utilities\n",
        "def save_json(data, file_name):\n",
        "    with open(file_name, 'w') as f:\n",
        "        json.dump(data, f)\n",
        "\n",
        "def load_json(file_name):\n",
        "    with open(file_name, 'r') as f:\n",
        "        return json.load(f)\n",
        "\n",
        "def get_response(raw_output):\n",
        "  return raw_output[0]['generated_text'][-1]['content']\n"
      ],
      "metadata": {
        "id": "rv7PNJbWP0uJ"
      },
      "execution_count": null,
      "outputs": []
    },
    {
      "cell_type": "code",
      "source": [
        "# !!!!!!!! huggingface login required to use llama model (ADD TOKEN AFTER `--token`) !!!!!!!!\n",
        "!huggingface-cli login --token"
      ],
      "metadata": {
        "id": "cb84Zkp7QvGz"
      },
      "execution_count": null,
      "outputs": []
    },
    {
      "cell_type": "code",
      "source": [
        "# settings\n",
        "checkpoint = 'meta-llama/Llama-3.2-1B-Instruct'"
      ],
      "metadata": {
        "id": "CYmcI2DhQvtT"
      },
      "execution_count": null,
      "outputs": []
    },
    {
      "cell_type": "code",
      "source": [
        "# make directories for data and results\n",
        "os.makedirs('ocr', exist_ok = True)\n",
        "os.makedirs('info', exist_ok = True)"
      ],
      "metadata": {
        "id": "uqTYksJFg6sC"
      },
      "execution_count": null,
      "outputs": []
    },
    {
      "cell_type": "code",
      "source": [
        "# upload JSON schema from `schema/schema.json`\n",
        "files.upload()\n",
        "schema = load_json('schema.json')\n",
        "schema_string = json.dumps(schema, indent=2)"
      ],
      "metadata": {
        "id": "IsSotOfVTB0d"
      },
      "execution_count": null,
      "outputs": []
    },
    {
      "cell_type": "code",
      "source": [
        "# Upload all JSON files from `ocr_results/`\n",
        "os.chdir('ocr')\n",
        "ocr_paths = files.upload()\n",
        "ocr_extractions = [{'key': Path(el).stem,\n",
        "                    'ocr': load_json(el)} for el in ocr_paths.keys()]\n",
        "os.chdir('..')"
      ],
      "metadata": {
        "id": "hmyxPxF-VCsT"
      },
      "execution_count": null,
      "outputs": []
    },
    {
      "cell_type": "markdown",
      "source": [],
      "metadata": {
        "id": "4I4jNYIHoPzn"
      }
    },
    {
      "cell_type": "code",
      "source": [
        "# Template for information extraction\n",
        "@dataclass\n",
        "class Template:\n",
        "  key: str\n",
        "  ocr_extraction: str\n",
        "\n",
        "  @classmethod\n",
        "  def from_dict(cls, dict_):\n",
        "    return cls(dict_['key'], dict_['ocr'])\n",
        "\n",
        "  def ocr_to_string(self):\n",
        "    return '\\n'.join(self.ocr_extraction)\n",
        "\n",
        "  def prompt(self):\n",
        "    string = self.ocr_to_string()\n",
        "\n",
        "    system = f'''The following is a document containing one or more emails.\n",
        "\n",
        "Your task is to read the following emails and extract a JSON object that will capture the common structure of emails.\n",
        "\n",
        "There may be multiple emails in the document—extract them all if so.\n",
        "\n",
        "It is of utmost importance that you extract EXACTLY according to the JSON schema.\n",
        "\n",
        "Now extract the JSON object.\n",
        "'''\n",
        "\n",
        "    user = string\n",
        "\n",
        "    messages = [\n",
        "      {\"role\": \"sytem\", \"content\": system},\n",
        "      {\"role\": \"user\", \"content\": user},\n",
        "    ]\n",
        "\n",
        "    return messages\n",
        "\n",
        "  def hf_to_outlines(self, messages):\n",
        "    return tokenizer.apply_chat_template(messages, tokenize = False, add_generation_prompt = True)\n",
        "\n",
        "  def generate(self, generator):\n",
        "    messages = self.prompt()\n",
        "    outlines_input = self.hf_to_outlines(messages)\n",
        "    return generator(outlines_input)"
      ],
      "metadata": {
        "id": "rJ0GybpS1m2s"
      },
      "execution_count": null,
      "outputs": []
    },
    {
      "cell_type": "code",
      "source": [
        "# instantiate models\n",
        "tokenizer = AutoTokenizer.from_pretrained(checkpoint)\n",
        "model = models.transformers(checkpoint)\n",
        "generator = generate.json(model, schema_string)"
      ],
      "metadata": {
        "id": "mZHc6V9uicvW"
      },
      "execution_count": null,
      "outputs": []
    },
    {
      "cell_type": "code",
      "source": [
        "# generate records and save\n",
        "for el in tqdm(ocr_extractions):\n",
        "  template = Template.from_dict(el)\n",
        "  info = template.generate(generator)\n",
        "  save_json(info, f'info/{el[\"key\"]}.json')"
      ],
      "metadata": {
        "id": "HBFFU4nn4Tzc"
      },
      "execution_count": null,
      "outputs": []
    }
  ]
}