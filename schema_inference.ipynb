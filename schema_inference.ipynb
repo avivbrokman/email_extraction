{
  "nbformat": 4,
  "nbformat_minor": 0,
  "metadata": {
    "colab": {
      "provenance": [],
      "gpuType": "T4"
    },
    "kernelspec": {
      "name": "python3",
      "display_name": "Python 3"
    },
    "language_info": {
      "name": "python"
    },
    "accelerator": "GPU"
  },
  "cells": [
    {
      "cell_type": "code",
      "execution_count": null,
      "metadata": {
        "id": "bxPpmHsLBNqA"
      },
      "outputs": [],
      "source": [
        "# installation\n",
        "!pip install transformers accelerate"
      ]
    },
    {
      "cell_type": "code",
      "source": [
        "# imports\n",
        "from google.colab import files\n",
        "from pathlib import Path\n",
        "import json\n",
        "from transformers import pipeline\n",
        "from dataclasses import dataclass"
      ],
      "metadata": {
        "id": "ouszbnOjBZiI"
      },
      "execution_count": 1,
      "outputs": []
    },
    {
      "cell_type": "code",
      "source": [
        "# !!!!!! huggingface login required to use llama model (ADD TOKEN AFTER `--token`) !!!!!!\n",
        "!huggingface-cli login --token"
      ],
      "metadata": {
        "colab": {
          "base_uri": "https://localhost:8080/"
        },
        "id": "Ry6vHqu5SRN8",
        "outputId": "23f66180-02f0-43c0-8e38-cd3cf78acfb5"
      },
      "execution_count": 5,
      "outputs": [
        {
          "output_type": "stream",
          "name": "stdout",
          "text": [
            "The token has not been saved to the git credentials helper. Pass `add_to_git_credential=True` in this function directly or `--add-to-git-credential` if using via `huggingface-cli` if you want to set the git credential as well.\n",
            "Token is valid (permission: write).\n",
            "The token `general` has been saved to /root/.cache/huggingface/stored_tokens\n",
            "Your token has been saved to /root/.cache/huggingface/token\n",
            "Login successful.\n",
            "The current active token is: `general`\n"
          ]
        }
      ]
    },
    {
      "cell_type": "code",
      "source": [
        "# settings\n",
        "checkpoint = 'meta-llama/Llama-3.2-1B-Instruct'"
      ],
      "metadata": {
        "id": "qOXXNOCvRnLW"
      },
      "execution_count": 6,
      "outputs": []
    },
    {
      "cell_type": "code",
      "source": [
        "# setup text generation pipeline\n",
        "pipe = pipeline(\"text-generation\", model = checkpoint)"
      ],
      "metadata": {
        "id": "fyRND-gZS3Jr"
      },
      "execution_count": null,
      "outputs": []
    },
    {
      "cell_type": "code",
      "source": [
        "# utilities\n",
        "def save_json(data, file_name):\n",
        "    with open(file_name, 'w') as f:\n",
        "        json.dump(data, f)\n",
        "\n",
        "def load_json(file_name):\n",
        "    with open(file_name, 'r') as f:\n",
        "        return json.load(f)\n",
        "\n",
        "def get_response(raw_output):\n",
        "  return raw_output[0]['generated_text'][-1]['content']"
      ],
      "metadata": {
        "id": "Oh61vFsSRk4z"
      },
      "execution_count": 17,
      "outputs": []
    },
    {
      "cell_type": "code",
      "source": [
        "# !!!! LOAD ALL FILES IN ocr_results directory !!!!!\n",
        "ocr_extractions = files.upload()\n",
        "ocr_extractions = [load_json(el) for el in ocr_extractions.keys()]"
      ],
      "metadata": {
        "colab": {
          "base_uri": "https://localhost:8080/",
          "height": 142
        },
        "id": "fj-An8vmYsET",
        "outputId": "45bff46f-206e-4cfb-ff0f-943498550f99"
      },
      "execution_count": 26,
      "outputs": [
        {
          "output_type": "display_data",
          "data": {
            "text/plain": [
              "<IPython.core.display.HTML object>"
            ],
            "text/html": [
              "\n",
              "     <input type=\"file\" id=\"files-a7ac6c11-64b3-47fb-a9e4-7d4ec91eb9f4\" name=\"files[]\" multiple disabled\n",
              "        style=\"border:none\" />\n",
              "     <output id=\"result-a7ac6c11-64b3-47fb-a9e4-7d4ec91eb9f4\">\n",
              "      Upload widget is only available when the cell has been executed in the\n",
              "      current browser session. Please rerun this cell to enable.\n",
              "      </output>\n",
              "      <script>// Copyright 2017 Google LLC\n",
              "//\n",
              "// Licensed under the Apache License, Version 2.0 (the \"License\");\n",
              "// you may not use this file except in compliance with the License.\n",
              "// You may obtain a copy of the License at\n",
              "//\n",
              "//      http://www.apache.org/licenses/LICENSE-2.0\n",
              "//\n",
              "// Unless required by applicable law or agreed to in writing, software\n",
              "// distributed under the License is distributed on an \"AS IS\" BASIS,\n",
              "// WITHOUT WARRANTIES OR CONDITIONS OF ANY KIND, either express or implied.\n",
              "// See the License for the specific language governing permissions and\n",
              "// limitations under the License.\n",
              "\n",
              "/**\n",
              " * @fileoverview Helpers for google.colab Python module.\n",
              " */\n",
              "(function(scope) {\n",
              "function span(text, styleAttributes = {}) {\n",
              "  const element = document.createElement('span');\n",
              "  element.textContent = text;\n",
              "  for (const key of Object.keys(styleAttributes)) {\n",
              "    element.style[key] = styleAttributes[key];\n",
              "  }\n",
              "  return element;\n",
              "}\n",
              "\n",
              "// Max number of bytes which will be uploaded at a time.\n",
              "const MAX_PAYLOAD_SIZE = 100 * 1024;\n",
              "\n",
              "function _uploadFiles(inputId, outputId) {\n",
              "  const steps = uploadFilesStep(inputId, outputId);\n",
              "  const outputElement = document.getElementById(outputId);\n",
              "  // Cache steps on the outputElement to make it available for the next call\n",
              "  // to uploadFilesContinue from Python.\n",
              "  outputElement.steps = steps;\n",
              "\n",
              "  return _uploadFilesContinue(outputId);\n",
              "}\n",
              "\n",
              "// This is roughly an async generator (not supported in the browser yet),\n",
              "// where there are multiple asynchronous steps and the Python side is going\n",
              "// to poll for completion of each step.\n",
              "// This uses a Promise to block the python side on completion of each step,\n",
              "// then passes the result of the previous step as the input to the next step.\n",
              "function _uploadFilesContinue(outputId) {\n",
              "  const outputElement = document.getElementById(outputId);\n",
              "  const steps = outputElement.steps;\n",
              "\n",
              "  const next = steps.next(outputElement.lastPromiseValue);\n",
              "  return Promise.resolve(next.value.promise).then((value) => {\n",
              "    // Cache the last promise value to make it available to the next\n",
              "    // step of the generator.\n",
              "    outputElement.lastPromiseValue = value;\n",
              "    return next.value.response;\n",
              "  });\n",
              "}\n",
              "\n",
              "/**\n",
              " * Generator function which is called between each async step of the upload\n",
              " * process.\n",
              " * @param {string} inputId Element ID of the input file picker element.\n",
              " * @param {string} outputId Element ID of the output display.\n",
              " * @return {!Iterable<!Object>} Iterable of next steps.\n",
              " */\n",
              "function* uploadFilesStep(inputId, outputId) {\n",
              "  const inputElement = document.getElementById(inputId);\n",
              "  inputElement.disabled = false;\n",
              "\n",
              "  const outputElement = document.getElementById(outputId);\n",
              "  outputElement.innerHTML = '';\n",
              "\n",
              "  const pickedPromise = new Promise((resolve) => {\n",
              "    inputElement.addEventListener('change', (e) => {\n",
              "      resolve(e.target.files);\n",
              "    });\n",
              "  });\n",
              "\n",
              "  const cancel = document.createElement('button');\n",
              "  inputElement.parentElement.appendChild(cancel);\n",
              "  cancel.textContent = 'Cancel upload';\n",
              "  const cancelPromise = new Promise((resolve) => {\n",
              "    cancel.onclick = () => {\n",
              "      resolve(null);\n",
              "    };\n",
              "  });\n",
              "\n",
              "  // Wait for the user to pick the files.\n",
              "  const files = yield {\n",
              "    promise: Promise.race([pickedPromise, cancelPromise]),\n",
              "    response: {\n",
              "      action: 'starting',\n",
              "    }\n",
              "  };\n",
              "\n",
              "  cancel.remove();\n",
              "\n",
              "  // Disable the input element since further picks are not allowed.\n",
              "  inputElement.disabled = true;\n",
              "\n",
              "  if (!files) {\n",
              "    return {\n",
              "      response: {\n",
              "        action: 'complete',\n",
              "      }\n",
              "    };\n",
              "  }\n",
              "\n",
              "  for (const file of files) {\n",
              "    const li = document.createElement('li');\n",
              "    li.append(span(file.name, {fontWeight: 'bold'}));\n",
              "    li.append(span(\n",
              "        `(${file.type || 'n/a'}) - ${file.size} bytes, ` +\n",
              "        `last modified: ${\n",
              "            file.lastModifiedDate ? file.lastModifiedDate.toLocaleDateString() :\n",
              "                                    'n/a'} - `));\n",
              "    const percent = span('0% done');\n",
              "    li.appendChild(percent);\n",
              "\n",
              "    outputElement.appendChild(li);\n",
              "\n",
              "    const fileDataPromise = new Promise((resolve) => {\n",
              "      const reader = new FileReader();\n",
              "      reader.onload = (e) => {\n",
              "        resolve(e.target.result);\n",
              "      };\n",
              "      reader.readAsArrayBuffer(file);\n",
              "    });\n",
              "    // Wait for the data to be ready.\n",
              "    let fileData = yield {\n",
              "      promise: fileDataPromise,\n",
              "      response: {\n",
              "        action: 'continue',\n",
              "      }\n",
              "    };\n",
              "\n",
              "    // Use a chunked sending to avoid message size limits. See b/62115660.\n",
              "    let position = 0;\n",
              "    do {\n",
              "      const length = Math.min(fileData.byteLength - position, MAX_PAYLOAD_SIZE);\n",
              "      const chunk = new Uint8Array(fileData, position, length);\n",
              "      position += length;\n",
              "\n",
              "      const base64 = btoa(String.fromCharCode.apply(null, chunk));\n",
              "      yield {\n",
              "        response: {\n",
              "          action: 'append',\n",
              "          file: file.name,\n",
              "          data: base64,\n",
              "        },\n",
              "      };\n",
              "\n",
              "      let percentDone = fileData.byteLength === 0 ?\n",
              "          100 :\n",
              "          Math.round((position / fileData.byteLength) * 100);\n",
              "      percent.textContent = `${percentDone}% done`;\n",
              "\n",
              "    } while (position < fileData.byteLength);\n",
              "  }\n",
              "\n",
              "  // All done.\n",
              "  yield {\n",
              "    response: {\n",
              "      action: 'complete',\n",
              "    }\n",
              "  };\n",
              "}\n",
              "\n",
              "scope.google = scope.google || {};\n",
              "scope.google.colab = scope.google.colab || {};\n",
              "scope.google.colab._files = {\n",
              "  _uploadFiles,\n",
              "  _uploadFilesContinue,\n",
              "};\n",
              "})(self);\n",
              "</script> "
            ]
          },
          "metadata": {}
        },
        {
          "output_type": "stream",
          "name": "stdout",
          "text": [
            "Saving 81882169_2170.json to 81882169_2170.json\n",
            "Saving 81841302.json to 81841302.json\n",
            "Saving 80909413.json to 80909413.json\n"
          ]
        }
      ]
    },
    {
      "cell_type": "code",
      "source": [
        "# Template for schema inference\n",
        "@dataclass\n",
        "class Template:\n",
        "  ocr_extractions: list\n",
        "\n",
        "  def ocr_to_doc(self, ocr_extraction):\n",
        "    return '\\n'.join(ocr_extraction)\n",
        "\n",
        "  def label_document(self, doc, num):\n",
        "    return f'Document {num}:\\n\\n{doc}'\n",
        "\n",
        "  def concat_docs(self, docs):\n",
        "    docs = [self.label_document(doc, i+1) for i, doc in enumerate(docs)]\n",
        "    return '\\n---\\n'.join(docs)\n",
        "\n",
        "  def ocr_to_string(self):\n",
        "    docs = [self.ocr_to_doc(el) for el in self.ocr_extractions]\n",
        "    string = self.concat_docs(docs)\n",
        "    return string\n",
        "\n",
        "  def prompt(self):\n",
        "    string = self.ocr_to_string()\n",
        "\n",
        "    system = '''The following is a document containing one or more emails.\n",
        "\n",
        "Your task is to read the following emails and infer a JSON schema that will capture the structure that is common to emails in general.\n",
        "\n",
        "There may be more than one email in the text, so make sure the schema can handle an arbitrary number of emails. It is very important to refrain from repeating keys.\n",
        "\n",
        "Remember, your task is to infer a schema, not to fill it out with details from an email.\n",
        "\n",
        "Now extract the schema and output only the JSON object below with no additional filler text.\n",
        "\n",
        "JSON:'''\n",
        "\n",
        "    #system = \"The following is a document containing one or more emails.\\n\\nWe want to extract structured information from emails in the form of a JSON object. Your task is read the following emails and infer a schema that will capture the structure that is common to emails in general.\\n\\nThere may be more than one email in the text, so make sure the schema can handle an arbitrary number of emails. The schema should heavily prioritize conciseness, avoiding repeat keys, but allowing for multiple entries.\\n\\nPlease format the schema in a JSON object.\"\n",
        "    user = string\n",
        "\n",
        "    messages = [\n",
        "      {\"role\": \"sytem\", \"content\": system},\n",
        "      {\"role\": \"user\", \"content\": user},\n",
        "    ]\n",
        "\n",
        "    return messages\n",
        "\n",
        "\n",
        "  def generate(self, pipe):\n",
        "    messages = self.prompt()\n",
        "    return pipe(messages,\n",
        "                max_new_tokens=3000,\n",
        "                do_sample = False,\n",
        "                repetition_penalty = 1.05)\n",
        "\n",
        "\n",
        ""
      ],
      "metadata": {
        "id": "BK3MemcaiDzv"
      },
      "execution_count": 12,
      "outputs": []
    },
    {
      "cell_type": "code",
      "source": [
        "# instantiates prompter with a few sample emails\n",
        "template = Template(ocr_extractions)"
      ],
      "metadata": {
        "id": "dOegquMSRo07"
      },
      "execution_count": 27,
      "outputs": []
    },
    {
      "cell_type": "code",
      "source": [
        "# generates template\n",
        "gen = template.generate(pipe)"
      ],
      "metadata": {
        "colab": {
          "base_uri": "https://localhost:8080/"
        },
        "id": "KIVqy9_Cm8tm",
        "outputId": "0fdbd1e9-663a-4ac3-ef9c-043789973980"
      },
      "execution_count": 36,
      "outputs": [
        {
          "output_type": "stream",
          "name": "stderr",
          "text": [
            "Setting `pad_token_id` to `eos_token_id`:128001 for open-end generation.\n"
          ]
        }
      ]
    },
    {
      "cell_type": "code",
      "source": [
        "# discards extraneous output\n",
        "schema = get_response(gen)"
      ],
      "metadata": {
        "id": "AAIDTq95qw5v"
      },
      "execution_count": 37,
      "outputs": []
    },
    {
      "cell_type": "code",
      "source": [
        "# saves schema\n",
        "save_json(schema, 'schema.json')"
      ],
      "metadata": {
        "id": "-j8FicogPoJM"
      },
      "execution_count": 34,
      "outputs": []
    }
  ]
}