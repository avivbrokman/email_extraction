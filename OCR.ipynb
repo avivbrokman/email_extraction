{
  "nbformat": 4,
  "nbformat_minor": 0,
  "metadata": {
    "colab": {
      "provenance": []
    },
    "kernelspec": {
      "name": "python3",
      "display_name": "Python 3"
    },
    "language_info": {
      "name": "python"
    }
  },
  "cells": [
    {
      "cell_type": "code",
      "execution_count": null,
      "metadata": {
        "id": "NtaD5_SN5k2Z",
        "collapsed": true
      },
      "outputs": [],
      "source": [
        "# installation\n",
        "!pip install paddlepaddle\n",
        "!pip install paddleocr"
      ]
    },
    {
      "cell_type": "code",
      "source": [
        "# imports\n",
        "import paddle\n",
        "from paddleocr import PaddleOCR\n",
        "from google.colab import files\n",
        "from pathlib import Path\n",
        "import json"
      ],
      "metadata": {
        "id": "zuSJnSCQ5rAh"
      },
      "execution_count": null,
      "outputs": []
    },
    {
      "cell_type": "code",
      "source": [
        "# utilities\n",
        "def save_json(data, file_name):\n",
        "    with open(file_name, 'w') as f:\n",
        "        json.dump(data, f)"
      ],
      "metadata": {
        "id": "pAXTqYVR5z_R"
      },
      "execution_count": null,
      "outputs": []
    },
    {
      "cell_type": "code",
      "source": [
        "# !!!!! UPLOAD IMAGES FROM `data/` directory !!!!!!!!\n",
        "images = files.upload()"
      ],
      "metadata": {
        "id": "eNwSs2aw6dH0"
      },
      "execution_count": null,
      "outputs": []
    },
    {
      "cell_type": "code",
      "source": [
        "# instantiate OCR model\n",
        "ocr_model = PaddleOCR(use_angle_cls=True, lang='en')"
      ],
      "metadata": {
        "id": "3Jb71DOV6Aje"
      },
      "execution_count": null,
      "outputs": []
    },
    {
      "cell_type": "code",
      "source": [
        "# postprocess OCR results\n",
        "def unpage(x):\n",
        "  return x[0]\n",
        "\n",
        "def remove_location_info(x):\n",
        "  return x[1]\n",
        "\n",
        "def get_text(x):\n",
        "  return x[0]\n",
        "\n",
        "def postprocess_ocr_result(result):\n",
        "  result = unpage(result)\n",
        "  return [get_text(remove_location_info(el)) for el in result]\n"
      ],
      "metadata": {
        "id": "ewpB5hsYKpaU"
      },
      "execution_count": null,
      "outputs": []
    },
    {
      "cell_type": "code",
      "source": [
        "# do OCR\n",
        "for image_path in images:\n",
        "  result = ocr_model.ocr(image_path)\n",
        "  postprocessed_result = postprocess_ocr_result(result)\n",
        "  save_json(postprocessed_result, Path(image_path).stem + '.json')\n"
      ],
      "metadata": {
        "id": "7TrsU5_r6qKM"
      },
      "execution_count": null,
      "outputs": []
    }
  ]
}